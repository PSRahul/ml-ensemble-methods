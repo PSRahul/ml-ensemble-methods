{
 "cells": [
  {
   "cell_type": "code",
   "execution_count": 1,
   "metadata": {},
   "outputs": [
    {
     "name": "stdout",
     "output_type": "stream",
     "text": [
      "Training Set    (50000, 28, 28) (50000,)\n",
      "Validation Set  (10000, 28, 28) (10000,)\n",
      "Test Set        (10000, 28, 28) (10000,)\n"
     ]
    }
   ],
   "source": [
    "#Data Retrival\n",
    "import idx2numpy\n",
    "import numpy as np\n",
    "file=\"t10k-images-idx3-ubyte\"\n",
    "x_test=idx2numpy.convert_from_file(file)\n",
    "file=\"t10k-labels.idx1-ubyte\"\n",
    "y_test=idx2numpy.convert_from_file(file)\n",
    "file=\"train-images-idx3-ubyte\"\n",
    "x_train_val=idx2numpy.convert_from_file(file)\n",
    "file=\"train-labels-idx1-ubyte\"\n",
    "y_train_val=idx2numpy.convert_from_file(file)\n",
    "\n",
    "test_fold=np.zeros((60000,1))\n",
    "from sklearn.model_selection import StratifiedShuffleSplit\n",
    "sss=StratifiedShuffleSplit(n_splits=1,test_size=10000)\n",
    "for train_index,test_index in sss.split(x_train_val,y_train_val):\n",
    "    x_train,y_train=x_train_val[train_index],y_train_val[train_index]\n",
    "    x_val,y_val=x_train_val[test_index],y_train_val[test_index]\n",
    "    test_fold[train_index]=-1 \n",
    "    test_fold[test_index]=0\n",
    "print(\"Training Set   \",x_train.shape,y_train.shape)\n",
    "print(\"Validation Set \",x_val.shape,y_val.shape)\n",
    "print(\"Test Set       \",x_test.shape,y_test.shape)\n",
    "\n",
    "x_train=x_train.reshape(50000,784)\n",
    "x_val=x_val.reshape(10000,784)\n",
    "x_test=x_test.reshape(10000,784)\n",
    "x_train_val=x_train_val.reshape(60000,784)\n",
    "\n",
    "from sklearn.preprocessing import StandardScaler\n",
    "scal=StandardScaler()\n",
    "scal.fit(x_train)\n",
    "x_train=scal.transform(x_train)\n",
    "x_val=scal.transform(x_val)\n",
    "x_test=scal.transform(x_test)\n",
    "x_train_val=scal.transform(x_train_val)"
   ]
  },
  {
   "cell_type": "code",
   "execution_count": 2,
   "metadata": {},
   "outputs": [],
   "source": [
    "from sklearn.ensemble import RandomForestClassifier\n",
    "from sklearn.ensemble import ExtraTreesClassifier\n",
    "from sklearn.svm import SVC\n",
    "from sklearn.ensemble import VotingClassifier\n",
    "from sklearn.model_selection import GridSearchCV\n",
    "from sklearn.model_selection import PredefinedSplit\n",
    "import matplotlib.pyplot as plt\n",
    "from sklearn.metrics import accuracy_score\n",
    "\n",
    "ps=PredefinedSplit(test_fold)"
   ]
  },
  {
   "cell_type": "code",
   "execution_count": 3,
   "metadata": {},
   "outputs": [],
   "source": [
    "def model_eval(model):\n",
    "    print(\"Predicting 1\")\n",
    "    model_pred_val=model.predict(x_val)\n",
    "    print(\"Predicting 2\")\n",
    "    model_pred_test=model.predict(x_test)\n",
    "    model_val=accuracy_score(y_val,model_pred_val)\n",
    "    model_test=accuracy_score(y_test,model_pred_test)\n",
    "    return model_pred_test,model_pred_val,model_val,model_test"
   ]
  },
  {
   "cell_type": "code",
   "execution_count": 4,
   "metadata": {},
   "outputs": [
    {
     "name": "stdout",
     "output_type": "stream",
     "text": [
      "Fitting RFC\n",
      "Fitting ETC\n",
      "Fitting SVC\n"
     ]
    },
    {
     "data": {
      "text/plain": [
       "SVC(C=1.0, break_ties=False, cache_size=4000, class_weight=None, coef0=0.0,\n",
       "    decision_function_shape='ovr', degree=3, gamma='scale', kernel='rbf',\n",
       "    max_iter=-1, probability=True, random_state=None, shrinking=True, tol=0.001,\n",
       "    verbose=False)"
      ]
     },
     "execution_count": 4,
     "metadata": {},
     "output_type": "execute_result"
    }
   ],
   "source": [
    "rfc=RandomForestClassifier(n_estimators=200,max_depth=20,n_jobs=-1)\n",
    "etc=ExtraTreesClassifier(n_estimators=200,max_depth=20,n_jobs=-1)\n",
    "svc=SVC(kernel=\"rbf\",probability=True,cache_size=4000)\n",
    "print(\"Fitting RFC\")\n",
    "rfc.fit(x_train,y_train)\n",
    "print(\"Fitting ETC\")\n",
    "etc.fit(x_train,y_train)\n",
    "print(\"Fitting SVC\")\n",
    "svc.fit(x_train,y_train)\n",
    "    \n"
   ]
  },
  {
   "cell_type": "code",
   "execution_count": 5,
   "metadata": {},
   "outputs": [
    {
     "name": "stdout",
     "output_type": "stream",
     "text": [
      "Predicting 1\n",
      "Predicting 2\n",
      "Predicting 1\n",
      "Predicting 2\n",
      "Predicting 1\n",
      "Predicting 2\n"
     ]
    }
   ],
   "source": [
    "rfc_pred_test,rfc_pred_val,rfc_val,rfc_test=model_eval(rfc)\n",
    "etc_pred_test,etc_pred_val,etc_val,etc_test=model_eval(etc)\n",
    "svc_pred_test,svc_pred_val,svc_val,svc_test=model_eval(svc)"
   ]
  },
  {
   "cell_type": "code",
   "execution_count": 6,
   "metadata": {},
   "outputs": [
    {
     "data": {
      "text/plain": [
       "RandomForestClassifier(bootstrap=True, ccp_alpha=0.0, class_weight=None,\n",
       "                       criterion='gini', max_depth=20, max_features='auto',\n",
       "                       max_leaf_nodes=None, max_samples=None,\n",
       "                       min_impurity_decrease=0.0, min_impurity_split=None,\n",
       "                       min_samples_leaf=1, min_samples_split=2,\n",
       "                       min_weight_fraction_leaf=0.0, n_estimators=200,\n",
       "                       n_jobs=-1, oob_score=False, random_state=None, verbose=0,\n",
       "                       warm_start=False)"
      ]
     },
     "execution_count": 6,
     "metadata": {},
     "output_type": "execute_result"
    }
   ],
   "source": [
    "#BlendingClassifier\n",
    "stack_train_x=np.zeros((10000,3))\n",
    "stack_train_x[:,0]=rfc_pred_val\n",
    "stack_train_x[:,1]=etc_pred_val\n",
    "stack_train_x[:,2]=svc_pred_val\n",
    "stack_train_y=y_val\n",
    "rfc_blend=RandomForestClassifier(n_estimators=200,max_depth=20,n_jobs=-1)\n",
    "rfc_blend.fit(stack_train_x,stack_train_y)\n"
   ]
  },
  {
   "cell_type": "code",
   "execution_count": 8,
   "metadata": {},
   "outputs": [
    {
     "name": "stdout",
     "output_type": "stream",
     "text": [
      "Blending Score 0.9708\n"
     ]
    }
   ],
   "source": [
    "stack_test_x=np.zeros((10000,3))\n",
    "stack_test_x[:,0]=rfc_pred_test\n",
    "stack_test_x[:,1]=etc_pred_test\n",
    "stack_test_x[:,2]=svc_pred_test\n",
    "stack_test_y=y_test\n",
    "stack_test_pred=rfc_blend.predict(stack_test_x)\n",
    "blend_scr=accuracy_score(stack_test_y,stack_test_pred)\n",
    "print('Blending Score',blend_scr)"
   ]
  },
  {
   "cell_type": "code",
   "execution_count": 9,
   "metadata": {},
   "outputs": [
    {
     "name": "stdout",
     "output_type": "stream",
     "text": [
      "Random Forest Classifier : Validation Set  0.966 Test Set  0.9685\n",
      "Extra Forest Classifier : Validation Set  0.9679 Test Set  0.9711\n",
      "Support Vector Classifier : Validation Set  0.9606 Test Set  0.9646\n"
     ]
    }
   ],
   "source": [
    "print('Random Forest Classifier : Validation Set ',rfc_val,'Test Set ',rfc_test)\n",
    "print('Extra Forest Classifier : Validation Set ',etc_val,'Test Set ',etc_test)\n",
    "print('Support Vector Classifier : Validation Set ',svc_val,'Test Set ',svc_test)"
   ]
  },
  {
   "cell_type": "code",
   "execution_count": null,
   "metadata": {},
   "outputs": [],
   "source": [
    "#SoftVotingClassifier\n",
    "soft_vc=VotingClassifier(estimators=[('rf',rfc),('et',etc),('sv',svc)],voting='soft')\n",
    "soft_vc_pred,soft_vc_val,soft_vc_test=model_eval(soft_vc)\n",
    "print('Random Forest Classifier : Validation Set ',rfc_val,'Test Set ',rfc_test)\n",
    "print('Extra Forest Classifier : Validation Set ',etc_val,'Test Set ',etc_test)\n",
    "print('Support Vector Classifier : Validation Set ',svc_val,'Test Set ',svc_test)\n",
    "print('Soft Voting Classifier : Validation Set ',soft_vc_val,'Test Set ',soft_vc_test)"
   ]
  }
 ],
 "metadata": {
  "kernelspec": {
   "display_name": "Python 3",
   "language": "python",
   "name": "python3"
  },
  "language_info": {
   "codemirror_mode": {
    "name": "ipython",
    "version": 3
   },
   "file_extension": ".py",
   "mimetype": "text/x-python",
   "name": "python",
   "nbconvert_exporter": "python",
   "pygments_lexer": "ipython3",
   "version": "3.8.8"
  }
 },
 "nbformat": 4,
 "nbformat_minor": 4
}
